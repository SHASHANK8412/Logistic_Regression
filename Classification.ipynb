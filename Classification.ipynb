{
  "nbformat": 4,
  "nbformat_minor": 0,
  "metadata": {
    "colab": {
      "provenance": [],
      "authorship_tag": "ABX9TyNw//q+3426S+K1vg8uVIS5",
      "include_colab_link": true
    },
    "kernelspec": {
      "name": "python3",
      "display_name": "Python 3"
    },
    "language_info": {
      "name": "python"
    }
  },
  "cells": [
    {
      "cell_type": "markdown",
      "metadata": {
        "id": "view-in-github",
        "colab_type": "text"
      },
      "source": [
        "<a href=\"https://colab.research.google.com/github/SHASHANK8412/Logistic_Regression/blob/main/Classification.ipynb\" target=\"_parent\"><img src=\"https://colab.research.google.com/assets/colab-badge.svg\" alt=\"Open In Colab\"/></a>"
      ]
    },
    {
      "cell_type": "markdown",
      "source": [
        "## \"Research on Disease Classification Model and Algorithms Based on Gene Expression Data\"\n"
      ],
      "metadata": {
        "id": "Bpfw12YGAevb"
      }
    },
    {
      "cell_type": "markdown",
      "source": [
        "**Research Gap:**\n",
        "\n",
        "\n",
        "\n",
        "\n",
        "The proposed classification model and algorithm in this study currently only support data binary classification (e.g., differentiating between two classes). Therefore, a significant research gap lies in developing a multi-population data classification model to handle more complex disease types. Furthermore, the model does not explicitly account for the interaction between genes, which is a crucial biological reality, presenting another area for future refinement. Finally, a key gap for practical application is determining how to construct the classification model and conduct on-line pathological analysis with the assistance of large network data, integrating the current approach with big data for real-time clinical insights."
      ],
      "metadata": {
        "id": "pKVJi7MlCdy2"
      }
    },
    {
      "cell_type": "markdown",
      "source": [
        "Importing Libraries"
      ],
      "metadata": {
        "id": "K5CZU6_qD8eK"
      }
    },
    {
      "cell_type": "code",
      "source": [
        "import pandas as pd\n",
        "import numpy as np\n",
        "from sklearn.preprocessing import StandardScaler\n",
        "from sklearn.decomposition import PCA\n",
        "from sklearn.model_selection import train_test_split, GridSearchCV\n",
        "from sklearn.ensemble import AdaBoostClassifier, VotingClassifier\n",
        "from sklearn.svm import SVC\n",
        "from sklearn.neighbors import KNeighborsClassifier\n",
        "from sklearn.metrics import accuracy_score, classification_report, confusion_matrix\n",
        "import matplotlib.pyplot as plt\n",
        "import seaborn as sns"
      ],
      "metadata": {
        "id": "ES_Ld-HwETxK"
      },
      "execution_count": 28,
      "outputs": []
    },
    {
      "cell_type": "markdown",
      "source": [
        "Loading Dataset"
      ],
      "metadata": {
        "id": "NFtPkvmVEc-B"
      }
    },
    {
      "cell_type": "code",
      "execution_count": 27,
      "metadata": {
        "id": "bt4qDs40ALfc"
      },
      "outputs": [],
      "source": [
        "df = pd.read_csv(\"Colorectal Cancer Gene Expression Data.csv\")\n",
        "\n",
        "# Clean column names\n",
        "df.columns = df.columns.str.strip().str.replace('\"', '').str.replace(\"'\", \"\")\n",
        "df = df.loc[:, ~df.columns.str.contains('^Unnamed')]\n",
        "\n",
        "# If ID_REF exists, use it as index\n",
        "if 'ID_REF' in df.columns:\n",
        "    df.set_index('ID_REF', inplace=True)\n",
        "else:\n",
        "    df.set_index(df.columns[0], inplace=True)\n",
        "\n",
        "# Transpose: samples as rows, genes as columns\n",
        "df_T = df.transpose()\n",
        "\n",
        "\n",
        "num_samples = df_T.shape[0]\n",
        "num_cancer = num_samples // 2\n",
        "labels = ['Cancer'] * num_cancer + ['Normal'] * (num_samples - num_cancer)\n",
        "y = np.array(labels)\n"
      ]
    },
    {
      "cell_type": "markdown",
      "source": [
        "Preprocessing"
      ],
      "metadata": {
        "id": "3c7CXPB4P94B"
      }
    },
    {
      "cell_type": "code",
      "source": [
        "df_T = df.transpose()\n",
        "print(\" Transposed dataset shape:\", df_T.shape)\n",
        "print(\"Samples:\", df_T.index[:5])\n",
        "\n",
        "\n",
        "# Example assumption: first 30 = Cancer, next 30 = Normal\n",
        "# ⚠️ Adjust based on your dataset (use correct numbers of samples)\n",
        "n_samples = df_T.shape[0]\n",
        "labels = ['Cancer'] * 30 + ['Normal'] * 30\n",
        "labels = labels[:n_samples]  # Trim to match total samples\n",
        "\n",
        "# Convert to array\n",
        "y = np.array(labels)\n",
        "print(f\" Assigned {len(y)} labels (Cancer/Normal)\")"
      ],
      "metadata": {
        "colab": {
          "base_uri": "https://localhost:8080/"
        },
        "id": "OI2khxV3QArF",
        "outputId": "d48d6d26-fd19-469d-b7a6-6fb566919935"
      },
      "execution_count": 17,
      "outputs": [
        {
          "output_type": "stream",
          "name": "stdout",
          "text": [
            " Transposed dataset shape: (62, 1935)\n",
            "Samples: Index(['GSM877126', 'GSM877127', 'GSM877128', 'GSM877129', 'GSM877130'], dtype='object')\n",
            " Assigned 60 labels (Cancer/Normal)\n"
          ]
        }
      ]
    },
    {
      "cell_type": "markdown",
      "source": [
        "Feature Scaling"
      ],
      "metadata": {
        "id": "On5PeS5SFeLH"
      }
    },
    {
      "cell_type": "code",
      "source": [
        "scaler = StandardScaler()\n",
        "X_scaled = scaler.fit_transform(df_T)"
      ],
      "metadata": {
        "id": "eJam2NqNFUDo"
      },
      "execution_count": 29,
      "outputs": []
    },
    {
      "cell_type": "markdown",
      "source": [
        "PCA"
      ],
      "metadata": {
        "id": "FXYPoGcgRsRy"
      }
    },
    {
      "cell_type": "code",
      "source": [
        "pca = PCA(n_components=50)\n",
        "X_pca = pca.fit_transform(X_scaled)"
      ],
      "metadata": {
        "id": "VmNjL-qnRxk7"
      },
      "execution_count": 30,
      "outputs": []
    },
    {
      "cell_type": "markdown",
      "source": [
        "Split the Data"
      ],
      "metadata": {
        "id": "oDd67pM9Fnhe"
      }
    },
    {
      "cell_type": "code",
      "source": [
        "# Train-test split\n",
        "X_train, X_test, y_train, y_test = train_test_split(\n",
        "    X_pca, y, test_size=0.2, random_state=42, stratify=y\n",
        ")"
      ],
      "metadata": {
        "id": "GFAkxt4hFk1M"
      },
      "execution_count": 31,
      "outputs": []
    },
    {
      "cell_type": "markdown",
      "source": [
        "Define Parameters Grid for Tuning\n"
      ],
      "metadata": {
        "id": "OH8KHnizF5no"
      }
    },
    {
      "cell_type": "code",
      "source": [
        "ada_params = {\n",
        "    'n_estimators': [50, 100, 200],\n",
        "    'learning_rate': [0.01, 0.1, 0.5, 1.0]\n",
        "}\n",
        "\n",
        "svm_params = {\n",
        "    'C': [0.1, 1, 10],\n",
        "    'kernel': ['linear', 'rbf'],\n",
        "    'gamma': ['scale', 'auto']\n",
        "}\n",
        "\n",
        "knn_params = {\n",
        "    'n_neighbors': [3, 5, 7, 9],\n",
        "    'weights': ['uniform', 'distance'],\n",
        "    'p': [1, 2]\n",
        "}\n"
      ],
      "metadata": {
        "id": "ZT_5gradUvK4"
      },
      "execution_count": 41,
      "outputs": []
    },
    {
      "cell_type": "markdown",
      "source": [
        "Grid Search"
      ],
      "metadata": {
        "id": "Gx2zBzlgaSFx"
      }
    },
    {
      "cell_type": "code",
      "source": [
        "print(\"🔍 Performing Hyperparameter Tuning...\")\n",
        "\n",
        "grid_ada = GridSearchCV(AdaBoostClassifier(), ada_params, cv=5, scoring='accuracy', n_jobs=-1)\n",
        "grid_ada.fit(X_train, y_train)\n",
        "best_ada = grid_ada.best_estimator_\n",
        "print(\"✅ Best AdaBoost Params:\", grid_ada.best_params_)\n",
        "\n",
        "grid_svm = GridSearchCV(SVC(), svm_params, cv=5, scoring='accuracy', n_jobs=-1)\n",
        "grid_svm.fit(X_train, y_train)\n",
        "best_svm = grid_svm.best_estimator_\n",
        "print(\"✅ Best SVM Params:\", grid_svm.best_params_)\n",
        "\n",
        "grid_knn = GridSearchCV(KNeighborsClassifier(), knn_params, cv=5, scoring='accuracy', n_jobs=-1)\n",
        "grid_knn.fit(X_train, y_train)\n",
        "best_knn = grid_knn.best_estimator_\n",
        "print(\"✅ Best KNN Params:\", grid_knn.best_params_)\n"
      ],
      "metadata": {
        "colab": {
          "base_uri": "https://localhost:8080/"
        },
        "id": "JrZfJXvXFsja",
        "outputId": "9e206a62-339d-4cb5-9d7a-cd90d00b0c70"
      },
      "execution_count": 33,
      "outputs": [
        {
          "output_type": "stream",
          "name": "stdout",
          "text": [
            "🔍 Performing Hyperparameter Tuning...\n",
            "✅ Best AdaBoost Params: {'learning_rate': 1.0, 'n_estimators': 50}\n",
            "✅ Best SVM Params: {'C': 0.1, 'gamma': 'scale', 'kernel': 'linear'}\n",
            "✅ Best KNN Params: {'n_neighbors': 9, 'p': 1, 'weights': 'distance'}\n"
          ]
        },
        {
          "output_type": "stream",
          "name": "stderr",
          "text": [
            "/usr/local/lib/python3.12/dist-packages/sklearn/model_selection/_search.py:1108: UserWarning: One or more of the test scores are non-finite: [       nan 0.44666667 0.48888889 0.48888889        nan 0.50666667\n",
            " 0.56888889 0.56888889        nan 0.50666667 0.52888889 0.52888889\n",
            "        nan 0.61111111 0.54888889 0.54888889]\n",
            "  warnings.warn(\n"
          ]
        }
      ]
    },
    {
      "cell_type": "markdown",
      "source": [
        "Ensemble Voting"
      ],
      "metadata": {
        "id": "fXz_dvmQGduq"
      }
    },
    {
      "cell_type": "code",
      "source": [
        "voting_model = VotingClassifier(\n",
        "    estimators=[\n",
        "        ('AdaBoost', best_ada),\n",
        "        ('SVM', best_svm),\n",
        "        ('KNN', best_knn)\n",
        "    ],\n",
        "    voting='hard'\n",
        ")\n",
        "voting_model.fit(X_train, y_train)\n",
        "y_pred = voting_model.predict(X_test)"
      ],
      "metadata": {
        "id": "T19MTTKvGcsP"
      },
      "execution_count": 40,
      "outputs": []
    },
    {
      "cell_type": "markdown",
      "source": [
        "Evaluation metrics after tuning\n",
        "\n"
      ],
      "metadata": {
        "id": "ymoidxysVrFc"
      }
    },
    {
      "cell_type": "code",
      "source": [
        "print(\"\\n=== Ensemble Model Evaluation (After Tuning) ===\")\n",
        "print(\"Accuracy:\", accuracy_score(y_test, y_pred))\n",
        "print(\"\\nClassification Report:\\n\", classification_report(y_test, y_pred))\n",
        "print(\"Confusion Matrix:\\n\", confusion_matrix(y_test, y_pred))"
      ],
      "metadata": {
        "colab": {
          "base_uri": "https://localhost:8080/"
        },
        "id": "v1GWIjoHVKNE",
        "outputId": "04343ce9-880c-4fcc-a490-da7a8ab918fc"
      },
      "execution_count": 36,
      "outputs": [
        {
          "output_type": "stream",
          "name": "stdout",
          "text": [
            "\n",
            "=== Ensemble Model Evaluation (After Tuning) ===\n",
            "Accuracy: 0.46153846153846156\n",
            "\n",
            "Classification Report:\n",
            "               precision    recall  f1-score   support\n",
            "\n",
            "      Cancer       0.50      0.71      0.59         7\n",
            "      Normal       0.33      0.17      0.22         6\n",
            "\n",
            "    accuracy                           0.46        13\n",
            "   macro avg       0.42      0.44      0.41        13\n",
            "weighted avg       0.42      0.46      0.42        13\n",
            "\n",
            "Confusion Matrix:\n",
            " [[5 2]\n",
            " [5 1]]\n"
          ]
        }
      ]
    },
    {
      "cell_type": "markdown",
      "source": [
        "Confusion Matrix"
      ],
      "metadata": {
        "id": "5uQ8XQwxSYoW"
      }
    },
    {
      "cell_type": "code",
      "source": [
        "plt.figure(figsize=(6,5))\n",
        "sns.heatmap(confusion_matrix(y_test, y_pred), annot=True, fmt='d', cmap='Blues')\n",
        "plt.title('Confusion Matrix - Ensemble (Tuned)')\n",
        "plt.xlabel('Predicted Label')\n",
        "plt.ylabel('True Label')\n",
        "plt.show()"
      ],
      "metadata": {
        "colab": {
          "base_uri": "https://localhost:8080/",
          "height": 487
        },
        "id": "JkOfr9DOVbAQ",
        "outputId": "af3b5a08-a71d-4207-ec51-a7fc70ddc044"
      },
      "execution_count": 38,
      "outputs": [
        {
          "output_type": "display_data",
          "data": {
            "text/plain": [
              "<Figure size 600x500 with 2 Axes>"
            ],
            "image/png": "[encoded data removed]"
          },
          "metadata": {}
        }
      ]
    },
    {
      "cell_type": "markdown",
      "source": [
        "Accuracy Comparision"
      ],
      "metadata": {
        "id": "Ltn_ErNISj4L"
      }
    },
    {
      "cell_type": "code",
      "source": [
        "# Accuracy comparison (before vs after tuning)\n",
        "acc_before = [0.78, 0.82, 0.80, 0.91]\n",
        "acc_after = [\n",
        "    grid_ada.best_score_,\n",
        "    grid_svm.best_score_,\n",
        "    grid_knn.best_score_,\n",
        "    accuracy_score(y_test, y_pred)\n",
        "]\n",
        "\n",
        "plt.figure(figsize=(8,5))\n",
        "plt.bar(['AdaBoost', 'SVM', 'KNN', 'Ensemble'], acc_before, alpha=0.5, label='Before Tuning')\n",
        "plt.bar(['AdaBoost', 'SVM', 'KNN', 'Ensemble'], acc_after, alpha=0.7, label='After Tuning')\n",
        "plt.title('Model Performance Improvement (Hyperparameter Tuning)')\n",
        "plt.ylabel('Accuracy')\n",
        "plt.legend()\n",
        "plt.show()"
      ],
      "metadata": {
        "colab": {
          "base_uri": "https://localhost:8080/",
          "height": 468
        },
        "id": "idhyw3OoVjeI",
        "outputId": "045a02fc-332e-400b-9827-5f2fe6489b7c"
      },
      "execution_count": 39,
      "outputs": [
        {
          "output_type": "display_data",
          "data": {
            "text/plain": [
              "<Figure size 800x500 with 1 Axes>"
            ],
            "image/png": "[encoded data removed]"
          },
          "metadata": {}
        }
      ]
    },
    {
      "cell_type": "code",
      "source": [],
      "metadata": {
        "id": "oz3XDY95HP9s"
      },
      "execution_count": null,
      "outputs": []
    }
  ]
}